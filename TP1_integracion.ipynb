{
  "nbformat": 4,
  "nbformat_minor": 0,
  "metadata": {
    "colab": {
      "provenance": [],
      "toc_visible": true,
      "include_colab_link": true
    },
    "kernelspec": {
      "name": "python3",
      "display_name": "Python 3"
    },
    "language_info": {
      "name": "python"
    }
  },
  "cells": [
    {
      "cell_type": "markdown",
      "metadata": {
        "id": "view-in-github",
        "colab_type": "text"
      },
      "source": [
        "<a href=\"https://colab.research.google.com/github/CGermanSoto/UTN-TUPaD-P1/blob/main/TP1_integracion.ipynb\" target=\"_parent\"><img src=\"https://colab.research.google.com/assets/colab-badge.svg\" alt=\"Open In Colab\"/></a>"
      ]
    },
    {
      "cell_type": "code",
      "execution_count": null,
      "metadata": {
        "colab": {
          "base_uri": "https://localhost:8080/"
        },
        "id": "ooechnaWT7fH",
        "outputId": "50542715-50d9-4b38-b15e-242a7c13df15"
      },
      "outputs": [
        {
          "output_type": "stream",
          "name": "stdout",
          "text": [
            "Conversión de Números\n",
            "1. Decimal a Binario\n",
            "2. Binario a Decimal\n",
            "Seleccione una opción (1 o 2): 2\n",
            "Ingrese un número binario: 101\n",
            "Resultado: 5\n"
          ]
        }
      ],
      "source": [
        "# con func internas de python\n",
        "def decimal_a_binario(decimal):\n",
        "    try:\n",
        "        decimal = int(decimal)\n",
        "        return bin(decimal)[2:]\n",
        "    except ValueError:\n",
        "        return \"Error: La entrada no es un número decimal válido.\"\n",
        "\n",
        "def binario_a_decimal(binario):\n",
        "    try:\n",
        "        if not all(c in '01' for c in binario):\n",
        "            raise ValueError\n",
        "        return int(binario, 2)\n",
        "    except ValueError:\n",
        "        return \"Error: La entrada no es un número binario válido.\"\n",
        "\n",
        "def convertir_numero():\n",
        "    print(\"Conversión de Números\")\n",
        "    print(\"1. Decimal a Binario\")\n",
        "    print(\"2. Binario a Decimal\")\n",
        "    opcion = input(\"Seleccione una opción (1 o 2): \")\n",
        "\n",
        "    if opcion == '1':\n",
        "        decimal = input(\"Ingrese un número decimal: \")\n",
        "        resultado = decimal_a_binario(decimal)\n",
        "        print(f\"Resultado: {resultado}\")\n",
        "    elif opcion == '2':\n",
        "        binario = input(\"Ingrese un número binario: \")\n",
        "        resultado = binario_a_decimal(binario)\n",
        "        print(f\"Resultado: {resultado}\")\n",
        "    else:\n",
        "        print(\"Error: Opción no válida.\")\n",
        "\n",
        "convertir_numero()"
      ]
    },
    {
      "cell_type": "code",
      "source": [
        "# manual\n",
        "def decimal_a_binario_manual(decimal_str):\n",
        "    if not decimal_str.isdigit():\n",
        "        return \"Error: Ingrese un número decimal entero positivo.\"\n",
        "\n",
        "    decimal = int(decimal_str)\n",
        "    if decimal == 0:\n",
        "        return \"0\"\n",
        "\n",
        "    binario = \"\"\n",
        "    while decimal > 0:\n",
        "        residuo = decimal % 2\n",
        "        binario = str(residuo) + binario\n",
        "        decimal = decimal // 2\n",
        "\n",
        "    return binario\n",
        "\n",
        "\n",
        "def binario_a_decimal_manual(binario_str):\n",
        "    if not all(c in '01' for c in binario_str):\n",
        "        return \"Error: El número binario solo puede contener 0 y 1.\"\n",
        "\n",
        "    decimal = 0\n",
        "    exponente = 0\n",
        "\n",
        "    for digito in reversed(binario_str):\n",
        "        if digito == '1':\n",
        "            decimal += 2 ** exponente\n",
        "        exponente += 1\n",
        "\n",
        "    return str(decimal)\n",
        "\n",
        "\n",
        "def convertir_numero():\n",
        "    print(\"Conversor de Números\")\n",
        "    print(\"1. Decimal a Binario\")\n",
        "    print(\"2. Binario a Decimal\")\n",
        "\n",
        "    opcion = input(\"Seleccione una opción (1 o 2): \")\n",
        "\n",
        "    if opcion == \"1\":\n",
        "        decimal = input(\"Ingrese un número decimal: \")\n",
        "        resultado = decimal_a_binario_manual(decimal)\n",
        "        print(\"Resultado:\", resultado)\n",
        "\n",
        "    elif opcion == \"2\":\n",
        "        binario = input(\"Ingrese un número binario: \")\n",
        "        resultado = binario_a_decimal_manual(binario)\n",
        "        print(\"Resultado:\", resultado)\n",
        "\n",
        "    else:\n",
        "        print(\"Error: Opción inválida. Seleccione 1 o 2.\")\n",
        "\n",
        "\n",
        "convertir_numero()"
      ],
      "metadata": {
        "colab": {
          "base_uri": "https://localhost:8080/",
          "height": 373
        },
        "id": "8cUn_dJrU4i4",
        "outputId": "f75c94ed-b737-4906-c868-1c51c87880cc"
      },
      "execution_count": null,
      "outputs": [
        {
          "output_type": "stream",
          "name": "stdout",
          "text": [
            "Conversor de Números\n",
            "1. Decimal a Binario\n",
            "2. Binario a Decimal\n"
          ]
        },
        {
          "output_type": "error",
          "ename": "KeyboardInterrupt",
          "evalue": "Interrupted by user",
          "traceback": [
            "\u001b[0;31m---------------------------------------------------------------------------\u001b[0m",
            "\u001b[0;31mKeyboardInterrupt\u001b[0m                         Traceback (most recent call last)",
            "\u001b[0;32m<ipython-input-11-988b86bc3bef>\u001b[0m in \u001b[0;36m<cell line: 0>\u001b[0;34m()\u001b[0m\n\u001b[1;32m     52\u001b[0m \u001b[0;34m\u001b[0m\u001b[0m\n\u001b[1;32m     53\u001b[0m \u001b[0;34m\u001b[0m\u001b[0m\n\u001b[0;32m---> 54\u001b[0;31m \u001b[0mconvertir_numero\u001b[0m\u001b[0;34m(\u001b[0m\u001b[0;34m)\u001b[0m\u001b[0;34m\u001b[0m\u001b[0;34m\u001b[0m\u001b[0m\n\u001b[0m",
            "\u001b[0;32m<ipython-input-11-988b86bc3bef>\u001b[0m in \u001b[0;36mconvertir_numero\u001b[0;34m()\u001b[0m\n\u001b[1;32m     36\u001b[0m     \u001b[0mprint\u001b[0m\u001b[0;34m(\u001b[0m\u001b[0;34m\"2. Binario a Decimal\"\u001b[0m\u001b[0;34m)\u001b[0m\u001b[0;34m\u001b[0m\u001b[0;34m\u001b[0m\u001b[0m\n\u001b[1;32m     37\u001b[0m \u001b[0;34m\u001b[0m\u001b[0m\n\u001b[0;32m---> 38\u001b[0;31m     \u001b[0mopcion\u001b[0m \u001b[0;34m=\u001b[0m \u001b[0minput\u001b[0m\u001b[0;34m(\u001b[0m\u001b[0;34m\"Seleccione una opción (1 o 2): \"\u001b[0m\u001b[0;34m)\u001b[0m\u001b[0;34m\u001b[0m\u001b[0;34m\u001b[0m\u001b[0m\n\u001b[0m\u001b[1;32m     39\u001b[0m \u001b[0;34m\u001b[0m\u001b[0m\n\u001b[1;32m     40\u001b[0m     \u001b[0;32mif\u001b[0m \u001b[0mopcion\u001b[0m \u001b[0;34m==\u001b[0m \u001b[0;34m\"1\"\u001b[0m\u001b[0;34m:\u001b[0m\u001b[0;34m\u001b[0m\u001b[0;34m\u001b[0m\u001b[0m\n",
            "\u001b[0;32m/usr/local/lib/python3.11/dist-packages/ipykernel/kernelbase.py\u001b[0m in \u001b[0;36mraw_input\u001b[0;34m(self, prompt)\u001b[0m\n\u001b[1;32m   1175\u001b[0m                 \u001b[0;34m\"raw_input was called, but this frontend does not support input requests.\"\u001b[0m\u001b[0;34m\u001b[0m\u001b[0;34m\u001b[0m\u001b[0m\n\u001b[1;32m   1176\u001b[0m             )\n\u001b[0;32m-> 1177\u001b[0;31m         return self._input_request(\n\u001b[0m\u001b[1;32m   1178\u001b[0m             \u001b[0mstr\u001b[0m\u001b[0;34m(\u001b[0m\u001b[0mprompt\u001b[0m\u001b[0;34m)\u001b[0m\u001b[0;34m,\u001b[0m\u001b[0;34m\u001b[0m\u001b[0;34m\u001b[0m\u001b[0m\n\u001b[1;32m   1179\u001b[0m             \u001b[0mself\u001b[0m\u001b[0;34m.\u001b[0m\u001b[0m_parent_ident\u001b[0m\u001b[0;34m[\u001b[0m\u001b[0;34m\"shell\"\u001b[0m\u001b[0;34m]\u001b[0m\u001b[0;34m,\u001b[0m\u001b[0;34m\u001b[0m\u001b[0;34m\u001b[0m\u001b[0m\n",
            "\u001b[0;32m/usr/local/lib/python3.11/dist-packages/ipykernel/kernelbase.py\u001b[0m in \u001b[0;36m_input_request\u001b[0;34m(self, prompt, ident, parent, password)\u001b[0m\n\u001b[1;32m   1217\u001b[0m             \u001b[0;32mexcept\u001b[0m \u001b[0mKeyboardInterrupt\u001b[0m\u001b[0;34m:\u001b[0m\u001b[0;34m\u001b[0m\u001b[0;34m\u001b[0m\u001b[0m\n\u001b[1;32m   1218\u001b[0m                 \u001b[0;31m# re-raise KeyboardInterrupt, to truncate traceback\u001b[0m\u001b[0;34m\u001b[0m\u001b[0;34m\u001b[0m\u001b[0m\n\u001b[0;32m-> 1219\u001b[0;31m                 \u001b[0;32mraise\u001b[0m \u001b[0mKeyboardInterrupt\u001b[0m\u001b[0;34m(\u001b[0m\u001b[0;34m\"Interrupted by user\"\u001b[0m\u001b[0;34m)\u001b[0m \u001b[0;32mfrom\u001b[0m \u001b[0;32mNone\u001b[0m\u001b[0;34m\u001b[0m\u001b[0;34m\u001b[0m\u001b[0m\n\u001b[0m\u001b[1;32m   1220\u001b[0m             \u001b[0;32mexcept\u001b[0m \u001b[0mException\u001b[0m\u001b[0;34m:\u001b[0m\u001b[0;34m\u001b[0m\u001b[0;34m\u001b[0m\u001b[0m\n\u001b[1;32m   1221\u001b[0m                 \u001b[0mself\u001b[0m\u001b[0;34m.\u001b[0m\u001b[0mlog\u001b[0m\u001b[0;34m.\u001b[0m\u001b[0mwarning\u001b[0m\u001b[0;34m(\u001b[0m\u001b[0;34m\"Invalid Message:\"\u001b[0m\u001b[0;34m,\u001b[0m \u001b[0mexc_info\u001b[0m\u001b[0;34m=\u001b[0m\u001b[0;32mTrue\u001b[0m\u001b[0;34m)\u001b[0m\u001b[0;34m\u001b[0m\u001b[0;34m\u001b[0m\u001b[0m\n",
            "\u001b[0;31mKeyboardInterrupt\u001b[0m: Interrupted by user"
          ]
        }
      ]
    }
  ]
}